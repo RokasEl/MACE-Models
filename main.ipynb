{
 "cells": [
  {
   "cell_type": "code",
   "execution_count": 1,
   "metadata": {},
   "outputs": [],
   "source": [
    "from mace_models import LoadModel, XYZReader\n",
    "import zntrack"
   ]
  },
  {
   "cell_type": "code",
   "execution_count": 2,
   "metadata": {},
   "outputs": [
    {
     "name": "stderr",
     "output_type": "stream",
     "text": [
      "Running DVC command: 'stage add --name ani500k_small_CC --force ...'\n",
      "Running DVC command: 'stage add --name ani500k_small_DFT --force ...'\n",
      "Running DVC command: 'stage add --name hydromace --force ...'\n",
      "Running DVC command: 'stage add --name reference_data --force ...'\n",
      "Running DVC command: 'repro'\n"
     ]
    }
   ],
   "source": [
    "with zntrack.Project() as project:\n",
    "    LoadModel(model_path=\"data/ani500k_small_CC.model\", name=\"ani500k_small_CC\")\n",
    "    LoadModel(model_path=\"data/ani500k_small_DFT.model\", name=\"ani500k_small_DFT\")\n",
    "    LoadModel(model_path=\"data/qm9_and_spice_hydrogenation.model\", name=\"hydromace\")\n",
    "    XYZReader(data_path=\"data/qm9_reference_data.xyz\", name=\"reference_data\")\n",
    "\n",
    "project.run()"
   ]
  }
 ],
 "metadata": {
  "kernelspec": {
   "display_name": "ips",
   "language": "python",
   "name": "python3"
  },
  "language_info": {
   "codemirror_mode": {
    "name": "ipython",
    "version": 3
   },
   "file_extension": ".py",
   "mimetype": "text/x-python",
   "name": "python",
   "nbconvert_exporter": "python",
   "pygments_lexer": "ipython3",
   "version": "3.10.11"
  },
  "orig_nbformat": 4
 },
 "nbformat": 4,
 "nbformat_minor": 2
}
