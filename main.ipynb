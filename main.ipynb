{
 "cells": [
  {
   "cell_type": "code",
   "execution_count": 4,
   "metadata": {},
   "outputs": [],
   "source": [
    "from mace_models import LoadModel\n",
    "import zntrack"
   ]
  },
  {
   "cell_type": "code",
   "execution_count": 5,
   "metadata": {},
   "outputs": [
    {
     "name": "stderr",
     "output_type": "stream",
     "text": [
      "Running DVC command: 'stage add --name ani500k_small_CC --force ...'\n",
      "Running DVC command: 'stage add --name ani500k_small_DFT --force ...'\n",
      "Running DVC command: 'stage add --name hydromace --force ...'\n",
      "Running DVC command: 'repro'\n"
     ]
    }
   ],
   "source": [
    "with zntrack.Project() as project:\n",
    "    LoadModel(model_path=\"data/ani500k_small_CC.model\", name=\"ani500k_small_CC\")\n",
    "    LoadModel(model_path=\"data/ani500k_small_DFT.model\", name=\"ani500k_small_DFT\")\n",
    "    LoadModel(model_path=\"data/qm9_and_spice_hydrogenation.model\", name=\"hydromace\")\n",
    "\n",
    "project.run()"
   ]
  },
  {
   "cell_type": "code",
   "execution_count": null,
   "metadata": {},
   "outputs": [],
   "source": []
  }
 ],
 "metadata": {
  "kernelspec": {
   "display_name": "ips",
   "language": "python",
   "name": "python3"
  },
  "language_info": {
   "codemirror_mode": {
    "name": "ipython",
    "version": 3
   },
   "file_extension": ".py",
   "mimetype": "text/x-python",
   "name": "python",
   "nbconvert_exporter": "python",
   "pygments_lexer": "ipython3",
   "version": "3.10.12"
  },
  "orig_nbformat": 4
 },
 "nbformat": 4,
 "nbformat_minor": 2
}
